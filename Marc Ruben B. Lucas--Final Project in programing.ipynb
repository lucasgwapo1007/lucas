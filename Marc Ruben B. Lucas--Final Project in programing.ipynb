{
 "cells": [
  {
   "cell_type": "code",
   "execution_count": null,
   "metadata": {},
   "outputs": [
    {
     "name": "stdout",
     "output_type": "stream",
     "text": [
      "Welcome to the Number Guessing Game!\n",
      "I'm thinking of a number between 1 and 100.\n",
      "\n",
      "You have 7 guesses left.\n",
      "Invalid input. Please enter a number.\n",
      "\n",
      "You have 7 guesses left.\n",
      "Invalid input. Please enter a number.\n",
      "\n",
      "You have 7 guesses left.\n"
     ]
    }
   ],
   "source": [
    "import random\n",
    "\n",
    "def guess_the_number():\n",
    "    \"\"\"Plays a number guessing game with the user.\"\"\"\n",
    "\n",
    "    number = random.randint(1, 100)  # Generates a random number between 1 and 100\n",
    "    guesses_left = 7\n",
    "    print(\"Welcome to the Number Guessing Game!\")\n",
    "    print(\"I'm thinking of a number between 1 and 100.\")\n",
    "\n",
    "    while guesses_left > 0:\n",
    "        print(f\"\\nYou have {guesses_left} guesses left.\")\n",
    "        try:\n",
    "            guess = int(input(\"Take a guess: \"))\n",
    "        except ValueError:\n",
    "            print(\"Invalid input. Please enter a number.\")\n",
    "            continue  # Go back to the beginning of the loop\n",
    "\n",
    "        if guess < number:\n",
    "            print(\"Too low!\")\n",
    "        elif guess > number:\n",
    "            print(\"Too high!\")\n",
    "        else:\n",
    "            print(f\"Congratulations! You guessed the number in {7 - guesses_left} tries!\")\n",
    "            return  # End the game\n",
    "\n",
    "        guesses_left -= 1\n",
    "\n",
    "    print(f\"\\nYou ran out of guesses. The number was {number}.\")\n",
    "\n",
    "\n",
    "if __name__ == \"__main__\":\n",
    "    guess_the_number()"
   ]
  }
 ],
 "metadata": {
  "kernelspec": {
   "display_name": "Python 3",
   "language": "python",
   "name": "python3"
  },
  "language_info": {
   "codemirror_mode": {
    "name": "ipython",
    "version": 3
   },
   "file_extension": ".py",
   "mimetype": "text/x-python",
   "name": "python",
   "nbconvert_exporter": "python",
   "pygments_lexer": "ipython3",
   "version": "3.12.8"
  }
 },
 "nbformat": 4,
 "nbformat_minor": 2
}
